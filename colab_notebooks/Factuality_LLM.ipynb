{
  "nbformat": 4,
  "nbformat_minor": 0,
  "metadata": {
    "colab": {
      "provenance": [],
      "machine_shape": "hm",
      "gpuType": "T4"
    },
    "kernelspec": {
      "name": "python3",
      "display_name": "Python 3"
    },
    "language_info": {
      "name": "python"
    },
    "accelerator": "GPU"
  },
  "cells": [
    {
      "cell_type": "markdown",
      "source": [
        "Factuality with LLMs.  \n",
        "\n",
        "Stephan Raaijmakers, LUCL, 01.04.2025"
      ],
      "metadata": {
        "id": "O8PDeeLXrBFv"
      }
    },
    {
      "cell_type": "code",
      "source": [
        "!pip install langchain_huggingface"
      ],
      "metadata": {
        "id": "LRSPUzkkhLbf"
      },
      "execution_count": null,
      "outputs": []
    },
    {
      "cell_type": "code",
      "execution_count": 2,
      "metadata": {
        "id": "kgNt2X56qGEJ"
      },
      "outputs": [],
      "source": [
        "from transformers import AutoModelForCausalLM , AutoTokenizer, pipeline\n",
        "import sys\n",
        "from tqdm import tqdm\n",
        "import torch\n",
        "import torch.nn as nn\n",
        "import torch.nn.functional as F\n",
        "import torch.optim as optim\n",
        "import os\n",
        "import re"
      ]
    },
    {
      "cell_type": "code",
      "source": [
        "from langchain_core.messages import (\n",
        "    HumanMessage,\n",
        "    SystemMessage,\n",
        ")"
      ],
      "metadata": {
        "id": "CQkjE1kMSwM7"
      },
      "execution_count": 3,
      "outputs": []
    },
    {
      "cell_type": "code",
      "source": [
        "from langchain_huggingface.llms import HuggingFacePipeline"
      ],
      "metadata": {
        "id": "AW6ixnlvUSpu"
      },
      "execution_count": 4,
      "outputs": []
    },
    {
      "cell_type": "code",
      "source": [
        "from langchain_huggingface import ChatHuggingFace,HuggingFaceEndpoint"
      ],
      "metadata": {
        "id": "_FZMirbBijx4"
      },
      "execution_count": 5,
      "outputs": []
    },
    {
      "cell_type": "code",
      "source": [
        "from google.colab import userdata\n",
        "HUGGINGFACE_TOKEN=userdata.get('HF_TOKEN')"
      ],
      "metadata": {
        "id": "Usl4J19uqqQ9"
      },
      "execution_count": 6,
      "outputs": []
    },
    {
      "cell_type": "markdown",
      "source": [
        "Notice you will need a Huggingface PRO account ($9/mo) for the InferenceClient on non-free tier models."
      ],
      "metadata": {
        "id": "RzcFGjsP-_nM"
      }
    },
    {
      "cell_type": "code",
      "source": [
        "llm = HuggingFaceEndpoint(\n",
        "    #repo_id=\"HuggingFaceH4/zephyr-7b-beta\",\n",
        "    repo_id=\"mistralai/Mistral-7B-Instruct-v0.2\",\n",
        "    task=\"text-generation\",\n",
        "    max_new_tokens=512,\n",
        "    do_sample=False,\n",
        "    repetition_penalty=1.03,\n",
        "    temperature=0.0\n",
        ")"
      ],
      "metadata": {
        "id": "ErD3Dolgl8WY"
      },
      "execution_count": 7,
      "outputs": []
    },
    {
      "cell_type": "code",
      "source": [
        "def check_facts(lines, output_file):\n",
        "    print(\"Checking facts...\")\n",
        "    #HUGGINGFACE_TOKEN=os.environ[\"HUGGINGFACE_TOKEN\"] # run first: export HUGGINGFACE_TOKEN=\"...\" in shell\n",
        "    outp=open(output_file,\"w\")\n",
        "\n",
        "    chat_model = ChatHuggingFace(llm=llm)\n",
        "\n",
        "    for i in tqdm(range(len(lines))):\n",
        "        sentence=' '.join(lines[i])\n",
        "\n",
        "        messages = [\n",
        "        SystemMessage(content=\"Check the factuality of the following sentence. Look for the facts, check them and then report with True or False for the entire sentence. Explain your verdict.\"),\n",
        "        HumanMessage(\n",
        "        content=\"Sentence:\"+sentence\n",
        "          ),\n",
        "        ]\n",
        "\n",
        "        completion = chat_model.invoke(messages)\n",
        "\n",
        "        fact_checked=completion.content\n",
        "        fact_checkeded=re.sub(\"\\n\",\" \",fact_checked)\n",
        "        fact_checked=re.sub(\"Here is the output: \",\"\",fact_checked)\n",
        "        outp.write(\"Sentence:%s\\nVerdict:%s\\n\"%(sentence,fact_checked))"
      ],
      "metadata": {
        "id": "BVvZsQ4SScyw"
      },
      "execution_count": 22,
      "outputs": []
    },
    {
      "cell_type": "code",
      "source": [
        "text=\"\"\"\n",
        "Rembrandt was a German painter.\n",
        "Trump is a Democrat.\n",
        "Picasso is a cubist painter.\n",
        "Melanzane is a vegetable.\n",
        "Ice is lighter than water.\n",
        "You can approach pi by throwing darts in a circle.\n",
        "\"\"\""
      ],
      "metadata": {
        "id": "MfxV9vv1Lobh"
      },
      "execution_count": null,
      "outputs": []
    },
    {
      "cell_type": "code",
      "source": [
        "def main_file(input_file, output_file):\n",
        "    with open(input_file,\"r\") as f:\n",
        "        lines = [z for z in [x.rstrip().split(\" \") for x in f.readlines()]]\n",
        "    check_facts(lines, output_file)\n",
        "    print(\"See \", output_file)"
      ],
      "metadata": {
        "id": "6emfwDt9qTTH"
      },
      "execution_count": 28,
      "outputs": []
    },
    {
      "cell_type": "code",
      "source": [
        "def main(output_file):\n",
        "    lines=text.split(\"\\n\")\n",
        "    check_facts(lines, output_file)\n",
        "    print(\"See \", output_file)"
      ],
      "metadata": {
        "id": "HUdAp0rcL4yv"
      },
      "execution_count": null,
      "outputs": []
    },
    {
      "cell_type": "code",
      "source": [
        "main_file(\"facts.txt\", \"fact_checked.out\")"
      ],
      "metadata": {
        "id": "gMuejpxcqZzl"
      },
      "execution_count": null,
      "outputs": []
    },
    {
      "cell_type": "code",
      "source": [
        "main(\"fact_checked.out\")"
      ],
      "metadata": {
        "id": "cn_QYJowMQJ1"
      },
      "execution_count": null,
      "outputs": []
    }
  ]
}