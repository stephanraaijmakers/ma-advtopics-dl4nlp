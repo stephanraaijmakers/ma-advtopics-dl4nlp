{
  "nbformat": 4,
  "nbformat_minor": 0,
  "metadata": {
    "colab": {
      "provenance": [],
      "machine_shape": "hm",
      "gpuType": "T4"
    },
    "kernelspec": {
      "name": "python3",
      "display_name": "Python 3"
    },
    "language_info": {
      "name": "python"
    },
    "accelerator": "GPU"
  },
  "cells": [
    {
      "cell_type": "markdown",
      "source": [
        "# Self-reflection through prompting\n",
        "Stephan Raaijmakers, LUCL, 10.04.2025"
      ],
      "metadata": {
        "id": "s-Quxe2MQsHc"
      }
    },
    {
      "cell_type": "code",
      "source": [
        "!pip install langchain_huggingface"
      ],
      "metadata": {
        "id": "zAWsqZvHRx_Y"
      },
      "execution_count": null,
      "outputs": []
    },
    {
      "cell_type": "code",
      "source": [
        "from langchain_core.prompts import ChatPromptTemplate, MessagesPlaceholder\n"
      ],
      "metadata": {
        "id": "lNziKeunCt_3"
      },
      "execution_count": null,
      "outputs": []
    },
    {
      "cell_type": "code",
      "source": [
        "from langchain_core.output_parsers import StrOutputParser"
      ],
      "metadata": {
        "id": "TOo73U1eM0sr"
      },
      "execution_count": null,
      "outputs": []
    },
    {
      "cell_type": "code",
      "source": [
        "from langchain_huggingface import ChatHuggingFace, HuggingFaceEndpoint"
      ],
      "metadata": {
        "id": "OVzb086EJjDU"
      },
      "execution_count": null,
      "outputs": []
    },
    {
      "cell_type": "code",
      "source": [
        "!pip install langchain_openai\n",
        "from langchain_openai import ChatOpenAI"
      ],
      "metadata": {
        "id": "ZgjTE2TMnSGU"
      },
      "execution_count": null,
      "outputs": []
    },
    {
      "cell_type": "code",
      "source": [
        "from operator import itemgetter"
      ],
      "metadata": {
        "id": "fXYvuctZMuJX"
      },
      "execution_count": null,
      "outputs": []
    },
    {
      "cell_type": "code",
      "source": [
        "from google.colab import userdata\n",
        "HF_TOKEN=userdata.get('HF_TOKEN')\n",
        "OPENAI_API_KEY=userdata.get('OPENAI_API_KEY')"
      ],
      "metadata": {
        "id": "kea6aPEXyYK0"
      },
      "execution_count": null,
      "outputs": []
    },
    {
      "cell_type": "code",
      "source": [],
      "metadata": {
        "id": "4g8pFpDwnP-U"
      },
      "execution_count": null,
      "outputs": []
    },
    {
      "cell_type": "code",
      "source": [
        "llm_openai = ChatOpenAI(\n",
        "    model=\"gpt-4o\",\n",
        "    temperature=0.7,\n",
        "    max_tokens=None,\n",
        "    timeout=None,\n",
        "    max_retries=2,\n",
        "    api_key=OPENAI_API_KEY\n",
        ")"
      ],
      "metadata": {
        "id": "TOpncMxpneUE"
      },
      "execution_count": null,
      "outputs": []
    },
    {
      "cell_type": "code",
      "source": [
        "llm_hf = HuggingFaceEndpoint(\n",
        "    repo_id=\"mistralai/Mistral-7B-Instruct-v0.2\",\n",
        "    #repo_id=\"meta-llama/Llama-3.2-3B-Instruct\",\n",
        "    task=\"text-generation\",\n",
        "    max_new_tokens=512,\n",
        "    do_sample=False,\n",
        "    repetition_penalty=1.03,\n",
        "    temperature=0.1\n",
        ")"
      ],
      "metadata": {
        "id": "WC0_gOgFQrwA"
      },
      "execution_count": null,
      "outputs": []
    },
    {
      "cell_type": "code",
      "source": [
        "rules = [\n",
        "    'Mention diversity',\n",
        "    \"Mention discrimination\",\n",
        "    'No discussion of gun violence or harm',\n",
        "]"
      ],
      "metadata": {
        "id": "wRqaXEeUQry_"
      },
      "execution_count": null,
      "outputs": []
    },
    {
      "cell_type": "markdown",
      "source": [
        "In the templates below, specify which llm you want to use: llm_hf or llm_openai:"
      ],
      "metadata": {
        "id": "XtO38mEgZ6cQ"
      }
    },
    {
      "cell_type": "code",
      "source": [
        "template1 = \"\"\"Answer the question:\n",
        "\n",
        "Question: {query}\n",
        "\"\"\"\n",
        "\n",
        "prompt1 = ChatPromptTemplate.from_template(template1)\n",
        "\n",
        "chain1 = (\n",
        "    {\n",
        "        \"query\": itemgetter(\"query\"),\n",
        "    }\n",
        "    | prompt1\n",
        "    | llm_openai\n",
        "    | StrOutputParser()\n",
        ")\n",
        "\n",
        "template2 = \"\"\"Based on the response {response} to {query}, evaluate which {rules} are violated\n",
        "\n",
        "Question: {query}\n",
        "Response: {response}\n",
        "Rules:{rules}\n",
        "\"\"\"\n",
        "\n",
        "prompt2 = ChatPromptTemplate.from_template(template2)\n",
        "\n",
        "chain2 = (\n",
        "    {\n",
        "        \"query\": itemgetter(\"query\"),\n",
        "        \"response\": itemgetter(\"response\"),\n",
        "        \"rules\": itemgetter(\"rules\"),\n",
        "    }\n",
        "    | prompt2\n",
        "    | llm_openai\n",
        "    | StrOutputParser()\n",
        ")\n",
        "\n",
        "\n",
        "template3 = \"\"\"Based on the evaluation {evaluation} of response {response} to {query}, reflect if the response {response} needs to be changed to satisfy the rules {rules} and why based on the query {query}\"\n",
        "\n",
        "Question: {query}\n",
        "Response: {response}\n",
        "Rules:{rules}\n",
        "Evaluation:{evaluation}\n",
        "\"\"\"\n",
        "\n",
        "prompt3 = ChatPromptTemplate.from_template(template3)\n",
        "\n",
        "chain3 = (\n",
        "    {\n",
        "        \"query\": itemgetter(\"query\"),\n",
        "        \"response\": itemgetter(\"response\"),\n",
        "        \"rules\": itemgetter(\"rules\"),\n",
        "        \"evaluation\": itemgetter(\"evaluation\"),\n",
        "    }\n",
        "    | prompt3\n",
        "    | llm_openai\n",
        "    | StrOutputParser()\n",
        ")\n",
        "\n",
        "\n",
        "\n",
        "\n",
        "\n",
        "template4 = \"\"\"Based on the reflection {reflection} of the evaluation {evaluation} of response {response} to {query}, reflect if the response {response} needs to be changed to satisfy the rules {rules} and why based on the query {query}\"\n",
        "\n",
        "Question: {query}\n",
        "Response: {response}\n",
        "Rules:{rules}\n",
        "Evaluation:{evaluation}\n",
        "Reflection:{reflection}\n",
        "\"\"\"\n",
        "\n",
        "prompt4 = ChatPromptTemplate.from_template(template4)\n",
        "\n",
        "chain4 = (\n",
        "    {\n",
        "        \"query\": itemgetter(\"query\"),\n",
        "        \"response\": itemgetter(\"response\"),\n",
        "        \"rules\": itemgetter(\"rules\"),\n",
        "        \"evaluation\": itemgetter(\"evaluation\"),\n",
        "        \"reflection\": itemgetter(\"reflection\"),\n",
        "    }\n",
        "    | prompt4\n",
        "    | llm_openai # change to llm_hf if desired\n",
        "    | StrOutputParser()\n",
        ")\n",
        "\n",
        "\n",
        "\n"
      ],
      "metadata": {
        "id": "eBRgy1yWC-10"
      },
      "execution_count": null,
      "outputs": []
    },
    {
      "cell_type": "code",
      "source": [
        "# Set a query\n",
        "query = 'How to win an election?'"
      ],
      "metadata": {
        "id": "AmFPaXD-R4jT"
      },
      "execution_count": null,
      "outputs": []
    },
    {
      "cell_type": "code",
      "source": [
        "response=chain1.invoke({\"query\": query, \"rules\": rules})"
      ],
      "metadata": {
        "id": "hFu1bTnEDzs0"
      },
      "execution_count": null,
      "outputs": []
    },
    {
      "cell_type": "code",
      "source": [
        "response"
      ],
      "metadata": {
        "colab": {
          "base_uri": "https://localhost:8080/",
          "height": 155
        },
        "id": "7ug4TGCUNKe_",
        "outputId": "adf94dac-e58c-4b1d-b9b9-dacc29b0e0b2"
      },
      "execution_count": null,
      "outputs": [
        {
          "output_type": "execute_result",
          "data": {
            "text/plain": [
              "\"Winning an election involves a combination of strategy, understanding the political landscape, effective communication, and grassroots organization. Here are some key steps to consider:\\n\\n1. **Understand the Political Landscape:**\\n   - Research the demographics, key issues, and voting history of the area.\\n   - Analyze the strengths and weaknesses of opponents.\\n\\n2. **Develop a Clear Message:**\\n   - Craft a compelling and clear message that resonates with voters.\\n   - Focus on issues that are important to the electorate.\\n\\n3. **Build a Strong Campaign Team:**\\n   - Assemble a team of experienced and dedicated individuals.\\n   - Ensure roles and responsibilities are clearly defined.\\n\\n4. **Fundraising:**\\n   - Develop a robust fundraising strategy to support campaign activities.\\n   - Engage with donors and host fundraising events.\\n\\n5. **Utilize Data and Analytics:**\\n   - Use data to target voters effectively.\\n   - Analyze voter behavior and tailor strategies accordingly.\\n\\n6. **Engage with the Community:**\\n   - Attend community events and engage with voters face-to-face.\\n   - Listen to the concerns and needs of the community.\\n\\n7. **Leverage Social Media and Technology:**\\n   - Use social media platforms to reach and engage with a broader audience.\\n   - Implement digital marketing strategies for wider outreach.\\n\\n8. **Debates and Public Speaking:**\\n   - Prepare thoroughly for debates and public speaking engagements.\\n   - Communicate effectively and confidently.\\n\\n9. **Grassroots Mobilization:**\\n   - Build a network of volunteers to help with door-to-door canvassing and phone banking.\\n   - Encourage voter registration and turnout.\\n\\n10. **Get Out the Vote (GOTV):**\\n    - Implement a strong GOTV strategy to ensure supporters vote on election day.\\n    - Provide information on voting locations and procedures.\\n\\n11. **Monitor and Adapt:**\\n    - Continuously monitor the campaign's progress and adapt strategies as needed.\\n    - Be prepared to respond to unforeseen challenges and opportunities.\\n\\nWinning an election requires dedication, adaptability, and a deep connection with the electorate. It is important to remain focused on the campaign goals and be prepared to work tirelessly to achieve them.\""
            ],
            "application/vnd.google.colaboratory.intrinsic+json": {
              "type": "string"
            }
          },
          "metadata": {},
          "execution_count": 13
        }
      ]
    },
    {
      "cell_type": "code",
      "source": [
        "evaluation=chain2.invoke({\"query\": query, \"rules\": rules,\"response\":response})"
      ],
      "metadata": {
        "id": "6owQeF9ONi0Y"
      },
      "execution_count": null,
      "outputs": []
    },
    {
      "cell_type": "code",
      "source": [
        "evaluation"
      ],
      "metadata": {
        "colab": {
          "base_uri": "https://localhost:8080/",
          "height": 73
        },
        "id": "bgYKtUlqNvC_",
        "outputId": "e3d9f58c-fa33-418f-ba43-0b09aba376fa"
      },
      "execution_count": null,
      "outputs": [
        {
          "output_type": "execute_result",
          "data": {
            "text/plain": [
              "'The response does not explicitly mention diversity or discrimination, so it violates the \"Mention diversity\" and \"Mention discrimination\" rules. However, it does not discuss gun violence or harm, so it complies with the \"No discussion of gun violence or harm\" rule.'"
            ],
            "application/vnd.google.colaboratory.intrinsic+json": {
              "type": "string"
            }
          },
          "metadata": {},
          "execution_count": 15
        }
      ]
    },
    {
      "cell_type": "code",
      "source": [
        "reflection=chain3.invoke({\"query\": query, \"rules\": rules,\"response\":response,\"evaluation\":evaluation})"
      ],
      "metadata": {
        "id": "7lyLANLgNx12"
      },
      "execution_count": null,
      "outputs": []
    },
    {
      "cell_type": "code",
      "source": [
        "reflection"
      ],
      "metadata": {
        "colab": {
          "base_uri": "https://localhost:8080/",
          "height": 155
        },
        "id": "nTT-L71wOoJn",
        "outputId": "ba641a96-4751-4d16-f36e-614efe10e9f2"
      },
      "execution_count": null,
      "outputs": [
        {
          "output_type": "execute_result",
          "data": {
            "text/plain": [
              "'To modify the response to satisfy the rules of \"Mention diversity,\" \"Mention discrimination,\" and \"No discussion of gun violence or harm,\" the following adjustments can be made:\\n\\n1. **Understand the Political Landscape:**\\n   - Research the demographics, key issues, and voting history of the area, paying close attention to diverse communities and their specific needs.\\n   - Analyze the strengths and weaknesses of opponents, particularly how they address issues of diversity and discrimination.\\n\\n2. **Develop a Clear Message:**\\n   - Craft a compelling and clear message that resonates with voters, emphasizing inclusivity and equal representation.\\n   - Focus on issues that are important to the electorate, including policies that combat discrimination and promote diversity.\\n\\n3. **Build a Strong Campaign Team:**\\n   - Assemble a team of experienced and dedicated individuals who reflect the diversity of the community.\\n   - Ensure roles and responsibilities are clearly defined, with a focus on promoting a discrimination-free environment within the team.\\n\\n4. **Fundraising:**\\n   - Develop a robust fundraising strategy to support campaign activities, ensuring diverse outreach to all community segments.\\n   - Engage with donors and host fundraising events that highlight the campaign\\'s commitment to diversity and anti-discrimination policies.\\n\\n5. **Utilize Data and Analytics:**\\n   - Use data to target voters effectively, particularly those from underrepresented groups.\\n   - Analyze voter behavior and tailor strategies to address issues of diversity and discrimination.\\n\\n6. **Engage with the Community:**\\n   - Attend community events and engage with voters face-to-face, paying special attention to diverse groups and their unique concerns.\\n   - Listen to the concerns and needs of the community, with a focus on addressing discrimination and promoting inclusivity.\\n\\n7. **Leverage Social Media and Technology:**\\n   - Use social media platforms to reach and engage with a broader audience, emphasizing messages of diversity and equality.\\n   - Implement digital marketing strategies that highlight the campaign\\'s commitment to combating discrimination.\\n\\n8. **Debates and Public Speaking:**\\n   - Prepare thoroughly for debates and public speaking engagements, ensuring to address topics of diversity and discrimination.\\n   - Communicate effectively and confidently about the importance of inclusivity and equality.\\n\\n9. **Grassroots Mobilization:**\\n   - Build a network of volunteers to help with door-to-door canvassing and phone banking, ensuring diverse representation.\\n   - Encourage voter registration and turnout, particularly among marginalized groups.\\n\\n10. **Get Out the Vote (GOTV):**\\n    - Implement a strong GOTV strategy to ensure supporters vote on election day, focusing on inclusivity and accessibility for all voters.\\n    - Provide information on voting locations and procedures, ensuring they are accessible to diverse populations.\\n\\n11. **Monitor and Adapt:**\\n    - Continuously monitor the campaign\\'s progress and adapt strategies as needed, with a focus on improving diversity and reducing discrimination.\\n    - Be prepared to respond to unforeseen challenges and opportunities, particularly those related to inclusivity and equality.\\n\\nBy incorporating these changes, the response now mentions diversity and discrimination while continuing to avoid discussion of gun violence or harm.'"
            ],
            "application/vnd.google.colaboratory.intrinsic+json": {
              "type": "string"
            }
          },
          "metadata": {},
          "execution_count": 17
        }
      ]
    },
    {
      "cell_type": "code",
      "source": [
        "final=chain4.invoke({\"query\": query, \"rules\": rules,\"response\":response,\"evaluation\":evaluation,\"reflection\":reflection})"
      ],
      "metadata": {
        "id": "GecXUKLSOs0b"
      },
      "execution_count": null,
      "outputs": []
    },
    {
      "cell_type": "code",
      "source": [
        "final"
      ],
      "metadata": {
        "colab": {
          "base_uri": "https://localhost:8080/",
          "height": 155
        },
        "id": "4ugi9BS3OxYf",
        "outputId": "c7bc8051-b587-493a-b610-ae41a235aa6f"
      },
      "execution_count": null,
      "outputs": [
        {
          "output_type": "execute_result",
          "data": {
            "text/plain": [
              "'To ensure that the response to \"How to win an election?\" aligns with the rules of \"Mention diversity,\" \"Mention discrimination,\" and \"No discussion of gun violence or harm,\" here is a revised version:\\n\\n1. **Understand the Political Landscape:**\\n   - Conduct thorough research on the demographics, key issues, and voting history of the area, with particular attention to the needs and concerns of diverse communities.\\n   - Evaluate the strengths and weaknesses of opponents, especially their approaches to diversity and anti-discrimination policies.\\n\\n2. **Develop a Clear Message:**\\n   - Create a compelling message that emphasizes inclusivity, equal representation, and the importance of combating discrimination.\\n   - Prioritize issues that resonate with the electorate, including those that address and promote diversity and equality.\\n\\n3. **Build a Strong Campaign Team:**\\n   - Assemble a team that reflects the community\\'s diversity, ensuring a wide range of perspectives and ideas.\\n   - Clearly define roles and responsibilities, fostering a team culture that actively promotes a discrimination-free environment.\\n\\n4. **Fundraising:**\\n   - Develop an inclusive fundraising strategy that reaches out to all community segments.\\n   - Host fundraising events that underscore the campaign\\'s commitment to diversity and anti-discrimination efforts.\\n\\n5. **Utilize Data and Analytics:**\\n   - Use data to effectively target voters, especially those from underrepresented groups.\\n   - Tailor strategies based on voter behavior analysis to address diversity and discrimination issues effectively.\\n\\n6. **Engage with the Community:**\\n   - Actively participate in community events and engage directly with voters, paying special attention to the concerns of diverse groups.\\n   - Focus on listening and addressing issues related to discrimination and promoting inclusivity.\\n\\n7. **Leverage Social Media and Technology:**\\n   - Use social media to convey messages of diversity, equality, and anti-discrimination to a wider audience.\\n   - Implement digital marketing strategies that highlight your campaign\\'s dedication to these values.\\n\\n8. **Debates and Public Speaking:**\\n   - Thoroughly prepare for debates and public speaking engagements to address topics of diversity and discrimination confidently.\\n   - Emphasize the importance of inclusivity and equality in your communications.\\n\\n9. **Grassroots Mobilization:**\\n   - Build a diverse network of volunteers to assist in outreach efforts such as door-to-door canvassing and phone banking.\\n   - Promote voter registration and turnout, focusing on marginalized communities.\\n\\n10. **Get Out the Vote (GOTV):**\\n    - Develop a GOTV strategy that ensures inclusivity and accessibility for all voters.\\n    - Provide clear information on voting locations and procedures, ensuring they are accessible to diverse populations.\\n\\n11. **Monitor and Adapt:**\\n    - Continuously evaluate the campaign\\'s progress and adjust strategies to enhance diversity and reduce discrimination.\\n    - Stay prepared to address any challenges or opportunities related to inclusivity and equality.\\n\\nThis revised response effectively incorporates mentions of diversity and discrimination while avoiding any discussion of gun violence or harm.'"
            ],
            "application/vnd.google.colaboratory.intrinsic+json": {
              "type": "string"
            }
          },
          "metadata": {},
          "execution_count": 19
        }
      ]
    },
    {
      "cell_type": "code",
      "source": [],
      "metadata": {
        "id": "KAwklWPJSD90"
      },
      "execution_count": null,
      "outputs": []
    }
  ]
}