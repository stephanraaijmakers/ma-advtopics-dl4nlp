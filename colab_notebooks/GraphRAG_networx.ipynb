{
  "nbformat": 4,
  "nbformat_minor": 0,
  "metadata": {
    "colab": {
      "provenance": []
    },
    "kernelspec": {
      "name": "python3",
      "display_name": "Python 3"
    },
    "language_info": {
      "name": "python"
    }
  },
  "cells": [
    {
      "cell_type": "markdown",
      "source": [
        "GraphRAG with Networkx. Getting Trump to like peanut butter.\n",
        "\n",
        "Stephan Raaijmakers, LUCL, 01.04.2025"
      ],
      "metadata": {
        "id": "Isn_IJhZ9TcG"
      }
    },
    {
      "cell_type": "code",
      "source": [
        "!pip install --upgrade --quiet  json-repair networkx langchain-core  langchain-experimental langchain-community langchain_huggingface langchain_openai\n"
      ],
      "metadata": {
        "id": "KaNhO5bU4jdL"
      },
      "execution_count": 108,
      "outputs": []
    },
    {
      "cell_type": "code",
      "execution_count": 109,
      "metadata": {
        "id": "R6UYUm184PiF"
      },
      "outputs": [],
      "source": [
        "import os\n",
        "from langchain_experimental.graph_transformers import LLMGraphTransformer\n",
        "import networkx as nx\n",
        "from langchain.chains import GraphQAChain\n",
        "from langchain_core.documents import Document\n",
        "from langchain_community.graphs.networkx_graph import NetworkxEntityGraph\n",
        "from langchain_huggingface import ChatHuggingFace, HuggingFaceEndpoint\n",
        "from langchain_openai import ChatOpenAI\n",
        "from google.colab import userdata"
      ]
    },
    {
      "cell_type": "code",
      "source": [
        "OPENAI_API_KEY=userdata.get('OPENAI_API_KEY')"
      ],
      "metadata": {
        "id": "mH5fnqELssmm"
      },
      "execution_count": 110,
      "outputs": []
    },
    {
      "cell_type": "code",
      "source": [
        "llm = HuggingFaceEndpoint(\n",
        "    repo_id=\"mistralai/Mistral-7B-Instruct-v0.2\",\n",
        "    #repo_id=\"google/gemma-7b\",\n",
        "    task=\"text-generation\",\n",
        "    max_new_tokens=512,\n",
        "    do_sample=False,\n",
        "    repetition_penalty=1.03,\n",
        "    temperature=0.01\n",
        ")"
      ],
      "metadata": {
        "id": "YsoAAgi55TZ2"
      },
      "execution_count": 111,
      "outputs": []
    },
    {
      "cell_type": "code",
      "source": [
        "text = \"\"\"\n",
        "Donald John Trump (born June 14, 1946) is an American politician, media personality, and businessman who is the 47th president of the United States.\n",
        "A member of the Republican Party, he served as the 45th president from 2017 to 2021.\n",
        "Born in New York City, Trump graduated from the University of Pennsylvania in 1968 with a bachelor's degree in economics.\n",
        "He became the president of his family's real estate business in 1971, renamed it the Trump Organization, and began acquiring and building\n",
        "skyscrapers, hotels, casinos, and golf courses. After six business bankruptcies in the 1990s and 2000s, he began side ventures.\n",
        "From 2004 to 2015, he hosted the reality television show The Apprentice. A political outsider, Trump won the 2016 presidential election against\n",
        "Democratic nominee Hillary Clinton. He likes peanut butter a lot on his sandwiches.\n",
        "\"\"\""
      ],
      "metadata": {
        "id": "aJdRdnA-5vdd"
      },
      "execution_count": 112,
      "outputs": []
    },
    {
      "cell_type": "code",
      "source": [
        "documents = [Document(page_content=text)]\n",
        "llm_graph_transformer = LLMGraphTransformer(llm=llm)\n",
        "graph_documents = llm_graph_transformer.convert_to_graph_documents(documents)"
      ],
      "metadata": {
        "colab": {
          "base_uri": "https://localhost:8080/"
        },
        "id": "ffHcmKIl5yfC",
        "outputId": "ec5b1d59-b5b3-41d0-db7f-49c941a44cad"
      },
      "execution_count": 113,
      "outputs": [
        {
          "output_type": "stream",
          "name": "stderr",
          "text": [
            "/usr/local/lib/python3.11/dist-packages/huggingface_hub/utils/_deprecation.py:131: FutureWarning: 'post' (from 'huggingface_hub.inference._client') is deprecated and will be removed from version '0.31.0'. Making direct POST requests to the inference server is not supported anymore. Please use task methods instead (e.g. `InferenceClient.chat_completion`). If your use case is not supported, please open an issue in https://github.com/huggingface/huggingface_hub.\n",
            "  warnings.warn(warning_message, FutureWarning)\n"
          ]
        }
      ]
    },
    {
      "cell_type": "code",
      "source": [
        "print(f\"Nodes:{graph_documents[0].nodes}\")\n",
        "print(f\"Relationships:{graph_documents[0].relationships}\")"
      ],
      "metadata": {
        "colab": {
          "base_uri": "https://localhost:8080/"
        },
        "id": "skJ7Y4seEfU6",
        "outputId": "53f044dd-6b6b-4c6d-f766-47768c6b0b70"
      },
      "execution_count": 114,
      "outputs": [
        {
          "output_type": "stream",
          "name": "stdout",
          "text": [
            "Nodes:[Node(id='47th president of the United States', type='Politician', properties={}), Node(id='The Apprentice', type='TelevisionShow', properties={}), Node(id='New York City', type='Location', properties={}), Node(id='peanut butter', type='Food', properties={}), Node(id='June 14, 1946', type='Date', properties={}), Node(id='45th president of the United States', type='Politician', properties={}), Node(id='Donald John Trump', type='Person', properties={}), Node(id='University of Pennsylvania', type='EducationalInstitution', properties={}), Node(id='Trump Organization', type='Company', properties={})]\n",
            "Relationships:[Relationship(source=Node(id='Donald John Trump', type='Person', properties={}), target=Node(id='New York City', type='Location', properties={}), type='BORN_IN', properties={}), Relationship(source=Node(id='Donald John Trump', type='Person', properties={}), target=Node(id='University of Pennsylvania', type='EducationalInstitution', properties={}), type='GRADUATED_FROM', properties={}), Relationship(source=Node(id='Donald John Trump', type='Person', properties={}), target=Node(id='45th president of the United States', type='Politician', properties={}), type='SERVED_AS', properties={}), Relationship(source=Node(id='Donald John Trump', type='Person', properties={}), target=Node(id='47th president of the United States', type='Politician', properties={}), type='SERVED_AS', properties={}), Relationship(source=Node(id='Donald John Trump', type='Person', properties={}), target=Node(id='The Apprentice', type='TelevisionShow', properties={}), type='HOSTED', properties={}), Relationship(source=Node(id='Donald John Trump', type='Person', properties={}), target=Node(id='peanut butter', type='Food', properties={}), type='LIKES', properties={}), Relationship(source=Node(id='Donald John Trump', type='Person', properties={}), target=Node(id='June 14, 1946', type='Date', properties={}), type='BORN_IN', properties={}), Relationship(source=Node(id='Donald John Trump', type='Person', properties={}), target=Node(id='Trump Organization', type='Company', properties={}), type='BECAME_PRESIDENT_OF', properties={})]\n"
          ]
        }
      ]
    },
    {
      "cell_type": "code",
      "source": [
        "# Here, we are using OpenAI. Can you find a Huggingface mode that also works?\n",
        "# If so, then adapt llm=HuggingfacePoint(...) adapt and comment out this next line!\n",
        "llm = ChatOpenAI(temperature=0, model_name=\"gpt-4-turbo\",openai_api_key=OPENAI_API_KEY)\n",
        "\n",
        "llm_graph_transformer_selection = LLMGraphTransformer(\n",
        "    llm=llm,\n",
        "    allowed_nodes=[\"Person\",\n",
        "                  \"Food\"],\n",
        "    allowed_relationships=[\"LIKES\"],\n",
        ")\n",
        "graph_documents_selection = llm_graph_transformer_selection.convert_to_graph_documents(\n",
        "    documents\n",
        ")"
      ],
      "metadata": {
        "colab": {
          "base_uri": "https://localhost:8080/"
        },
        "id": "phZQmCYi7QnL",
        "outputId": "27d215d7-2cbb-435e-fbea-b60bc1d06233"
      },
      "execution_count": 115,
      "outputs": [
        {
          "output_type": "stream",
          "name": "stderr",
          "text": [
            "/usr/local/lib/python3.11/dist-packages/langchain_openai/chat_models/base.py:1637: UserWarning: Cannot use method='json_schema' with model gpt-4-turbo since it doesn't support OpenAI's Structured Output API. You can see supported models here: https://platform.openai.com/docs/guides/structured-outputs#supported-models. To fix this warning, set `method='function_calling'. Overriding to method='function_calling'.\n",
            "  warnings.warn(\n"
          ]
        }
      ]
    },
    {
      "cell_type": "code",
      "source": [
        "print(f\"Nodes:{graph_documents_selection[0].nodes}\")\n",
        "print(f\"Relationships:{graph_documents_selection[0].relationships}\")"
      ],
      "metadata": {
        "colab": {
          "base_uri": "https://localhost:8080/"
        },
        "id": "o2wdwIYaqgIb",
        "outputId": "cef6921d-ea1a-41e0-f5c3-9a79cc156d1e"
      },
      "execution_count": 116,
      "outputs": [
        {
          "output_type": "stream",
          "name": "stdout",
          "text": [
            "Nodes:[Node(id='Donald John Trump', type='Person', properties={}), Node(id='Hillary Clinton', type='Person', properties={}), Node(id='Peanut Butter', type='Food', properties={})]\n",
            "Relationships:[Relationship(source=Node(id='Donald John Trump', type='Person', properties={}), target=Node(id='Peanut Butter', type='Food', properties={}), type='LIKES', properties={})]\n"
          ]
        }
      ]
    },
    {
      "cell_type": "code",
      "source": [
        "graph = NetworkxEntityGraph()\n",
        "\n",
        "# Add nodes\n",
        "for node in graph_documents_selection[0].nodes:\n",
        "    graph.add_node(node.id)\n",
        "\n",
        "# Add edges\n",
        "for edge in graph_documents_selection[0].relationships:\n",
        "    graph._graph.add_edge(\n",
        "            edge.source.id,\n",
        "            edge.target.id,\n",
        "            relation=edge.type,\n",
        "        )"
      ],
      "metadata": {
        "id": "tMtEgw8P7Y5G"
      },
      "execution_count": 117,
      "outputs": []
    },
    {
      "cell_type": "code",
      "source": [
        "chain = GraphQAChain.from_llm(\n",
        "    llm=llm,\n",
        "    graph=graph,\n",
        "    verbose=True\n",
        ")"
      ],
      "metadata": {
        "id": "WR2_L6oT7eEA"
      },
      "execution_count": 118,
      "outputs": []
    },
    {
      "cell_type": "code",
      "source": [
        "question = \"\"\"What food does Donald John Trump like?\"\"\"\n",
        "print(chain.run(question))"
      ],
      "metadata": {
        "colab": {
          "base_uri": "https://localhost:8080/"
        },
        "id": "a3bAG1IEAKSn",
        "outputId": "33828536-e48f-4a86-8104-96d93c604ad4"
      },
      "execution_count": 119,
      "outputs": [
        {
          "output_type": "stream",
          "name": "stdout",
          "text": [
            "\n",
            "\n",
            "\u001b[1m> Entering new GraphQAChain chain...\u001b[0m\n",
            "Entities Extracted:\n",
            "\u001b[32;1m\u001b[1;3mDonald John Trump\u001b[0m\n",
            "Full Context:\n",
            "\u001b[32;1m\u001b[1;3mDonald John Trump LIKES Peanut Butter\u001b[0m\n",
            "\n",
            "\u001b[1m> Finished chain.\u001b[0m\n",
            "Donald John Trump likes peanut butter.\n"
          ]
        }
      ]
    }
  ]
}